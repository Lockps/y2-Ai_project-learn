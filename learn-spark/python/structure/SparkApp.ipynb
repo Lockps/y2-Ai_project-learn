{
 "cells": [
  {
   "cell_type": "code",
   "execution_count": 1,
   "metadata": {},
   "outputs": [],
   "source": [
    "from pyspark.sql import SparkSession\n",
    "from pyspark.sql.types import StructType,StructField,IntegerType ,StringType\n",
    "import pyspark.sql.functions as func"
   ]
  },
  {
   "cell_type": "markdown",
   "metadata": {},
   "source": [
    "### Createing SparkSession"
   ]
  },
  {
   "cell_type": "code",
   "execution_count": 2,
   "metadata": {},
   "outputs": [],
   "source": [
    "spark = SparkSession.builder.appName(\"FirstApp\").getOrCreate()"
   ]
  },
  {
   "cell_type": "markdown",
   "metadata": {},
   "source": [
    "### Defining schema for DataFrame"
   ]
  },
  {
   "cell_type": "code",
   "execution_count": 3,
   "metadata": {},
   "outputs": [],
   "source": [
    "myschema = StructType(\n",
    "    [\n",
    "        StructField(\"userID\", IntegerType(), True),\n",
    "        StructField(\"name\", StringType(), True),\n",
    "        StructField(\"age\", IntegerType(), True),\n",
    "        StructField(\"friends\",IntegerType(), True)\n",
    "    ]\n",
    ")"
   ]
  },
  {
   "cell_type": "markdown",
   "metadata": {},
   "source": [
    "### Creating DataFrame on CSV"
   ]
  },
  {
   "cell_type": "code",
   "execution_count": 4,
   "metadata": {},
   "outputs": [],
   "source": [
    "people = (\n",
    "    spark.read.format(\"csv\")\n",
    "    .schema(myschema)\n",
    "    .option(\"path\", \"./data/fakefriends.csv\")\n",
    "    .load()\n",
    ")"
   ]
  },
  {
   "cell_type": "code",
   "execution_count": 5,
   "metadata": {},
   "outputs": [
    {
     "name": "stdout",
     "output_type": "stream",
     "text": [
      "+------+--------+---+-------+\n",
      "|userID|    name|age|friends|\n",
      "+------+--------+---+-------+\n",
      "|     0|    Will| 33|    385|\n",
      "|     1|Jean-Luc| 26|      2|\n",
      "|     2|    Hugh| 55|    221|\n",
      "|     3|  Deanna| 40|    465|\n",
      "|     4|   Quark| 68|     21|\n",
      "|     5|  Weyoun| 59|    318|\n",
      "|     6|  Gowron| 37|    220|\n",
      "|     7|    Will| 54|    307|\n",
      "|     8|  Jadzia| 38|    380|\n",
      "|     9|    Hugh| 27|    181|\n",
      "|    10|     Odo| 53|    191|\n",
      "|    11|     Ben| 57|    372|\n",
      "|    12|   Keiko| 54|    253|\n",
      "|    13|Jean-Luc| 56|    444|\n",
      "|    14|    Hugh| 43|     49|\n",
      "|    15|     Rom| 36|     49|\n",
      "|    16|  Weyoun| 22|    323|\n",
      "|    17|     Odo| 35|     13|\n",
      "|    18|Jean-Luc| 45|    455|\n",
      "|    19|  Geordi| 60|    246|\n",
      "+------+--------+---+-------+\n",
      "only showing top 20 rows\n",
      "\n"
     ]
    }
   ],
   "source": [
    "people.show()"
   ]
  },
  {
   "cell_type": "code",
   "execution_count": 9,
   "metadata": {},
   "outputs": [],
   "source": [
    "op = (\n",
    "    people.select(people.userID, people.name, people.age, people.friends)\n",
    "    .where(people.age < 30)\n",
    "    .withColumn(\"insert_ts\", func.current_timestamp())\n",
    "    .orderBy(people.userID)\n",
    ")"
   ]
  },
  {
   "cell_type": "code",
   "execution_count": 10,
   "metadata": {},
   "outputs": [
    {
     "data": {
      "text/plain": [
       "112"
      ]
     },
     "execution_count": 10,
     "metadata": {},
     "output_type": "execute_result"
    }
   ],
   "source": [
    "op.count()"
   ]
  },
  {
   "cell_type": "code",
   "execution_count": 8,
   "metadata": {},
   "outputs": [
    {
     "name": "stdout",
     "output_type": "stream",
     "text": [
      "+------+--------+---+-------+--------------------+\n",
      "|userID|    name|age|friends|           insert_ts|\n",
      "+------+--------+---+-------+--------------------+\n",
      "|     1|Jean-Luc| 26|      2|2024-01-03 16:02:...|\n",
      "|     9|    Hugh| 27|    181|2024-01-03 16:02:...|\n",
      "|    16|  Weyoun| 22|    323|2024-01-03 16:02:...|\n",
      "|    21|   Miles| 19|    268|2024-01-03 16:02:...|\n",
      "|    24|  Julian| 25|      1|2024-01-03 16:02:...|\n",
      "|    25|     Ben| 21|    445|2024-01-03 16:02:...|\n",
      "|    26|  Julian| 22|    100|2024-01-03 16:02:...|\n",
      "|    32|     Nog| 26|    281|2024-01-03 16:02:...|\n",
      "|    35| Beverly| 27|    305|2024-01-03 16:02:...|\n",
      "|    46|    Morn| 25|     96|2024-01-03 16:02:...|\n",
      "|    47|   Brunt| 24|     49|2024-01-03 16:02:...|\n",
      "|    48|     Nog| 20|      1|2024-01-03 16:02:...|\n",
      "|    52| Beverly| 19|    269|2024-01-03 16:02:...|\n",
      "|    54|   Brunt| 19|      5|2024-01-03 16:02:...|\n",
      "|    60|  Geordi| 20|    100|2024-01-03 16:02:...|\n",
      "|    66|  Geordi| 21|    477|2024-01-03 16:02:...|\n",
      "|    72|  Kasidy| 22|    179|2024-01-03 16:02:...|\n",
      "|    73|   Brunt| 20|    384|2024-01-03 16:02:...|\n",
      "|    84|     Ben| 28|    311|2024-01-03 16:02:...|\n",
      "|    89|    Worf| 24|    492|2024-01-03 16:02:...|\n",
      "+------+--------+---+-------+--------------------+\n",
      "only showing top 20 rows\n",
      "\n"
     ]
    }
   ],
   "source": [
    "op.show()"
   ]
  },
  {
   "cell_type": "code",
   "execution_count": 11,
   "metadata": {},
   "outputs": [],
   "source": [
    "op.createOrReplaceTempView(\"peoples\")"
   ]
  },
  {
   "cell_type": "code",
   "execution_count": 12,
   "metadata": {},
   "outputs": [
    {
     "name": "stdout",
     "output_type": "stream",
     "text": [
      "+--------+---+-------+--------------------+\n",
      "|    name|age|friends|           insert_ts|\n",
      "+--------+---+-------+--------------------+\n",
      "|Jean-Luc| 26|      2|2024-01-03 16:06:...|\n",
      "|    Hugh| 27|    181|2024-01-03 16:06:...|\n",
      "|  Weyoun| 22|    323|2024-01-03 16:06:...|\n",
      "|   Miles| 19|    268|2024-01-03 16:06:...|\n",
      "|  Julian| 25|      1|2024-01-03 16:06:...|\n",
      "|     Ben| 21|    445|2024-01-03 16:06:...|\n",
      "|  Julian| 22|    100|2024-01-03 16:06:...|\n",
      "|     Nog| 26|    281|2024-01-03 16:06:...|\n",
      "| Beverly| 27|    305|2024-01-03 16:06:...|\n",
      "|    Morn| 25|     96|2024-01-03 16:06:...|\n",
      "|   Brunt| 24|     49|2024-01-03 16:06:...|\n",
      "|     Nog| 20|      1|2024-01-03 16:06:...|\n",
      "| Beverly| 19|    269|2024-01-03 16:06:...|\n",
      "|   Brunt| 19|      5|2024-01-03 16:06:...|\n",
      "|  Geordi| 20|    100|2024-01-03 16:06:...|\n",
      "|  Geordi| 21|    477|2024-01-03 16:06:...|\n",
      "|  Kasidy| 22|    179|2024-01-03 16:06:...|\n",
      "|   Brunt| 20|    384|2024-01-03 16:06:...|\n",
      "|     Ben| 28|    311|2024-01-03 16:06:...|\n",
      "|    Worf| 24|    492|2024-01-03 16:06:...|\n",
      "+--------+---+-------+--------------------+\n",
      "only showing top 20 rows\n",
      "\n"
     ]
    }
   ],
   "source": [
    "spark.sql(\"select name,age,friends,insert_ts from peoples\").show()"
   ]
  }
 ],
 "metadata": {
  "kernelspec": {
   "display_name": "Python 3",
   "language": "python",
   "name": "python3"
  },
  "language_info": {
   "codemirror_mode": {
    "name": "ipython",
    "version": 3
   },
   "file_extension": ".py",
   "mimetype": "text/x-python",
   "name": "python",
   "nbconvert_exporter": "python",
   "pygments_lexer": "ipython3",
   "version": "3.11.7"
  }
 },
 "nbformat": 4,
 "nbformat_minor": 2
}
