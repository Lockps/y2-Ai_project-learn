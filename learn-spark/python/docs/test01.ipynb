{
 "cells": [
  {
   "cell_type": "code",
   "execution_count": 79,
   "metadata": {},
   "outputs": [],
   "source": [
    "import os\n",
    "import sys\n",
    "\n",
    "os.environ['PYSPARK_DRIVER_PYTHON_OPTS']= \"notebook\"\n",
    "os.environ['PYSPARK_PYTHON'] = sys.executable\n",
    "os.environ['Pyspark_DRIVER_PYTHON'] = sys.executable"
   ]
  },
  {
   "cell_type": "code",
   "execution_count": 80,
   "metadata": {},
   "outputs": [
    {
     "data": {
      "text/plain": [
       "'C:\\\\spark\\\\spark-3.5.0-bin-hadoop3'"
      ]
     },
     "execution_count": 80,
     "metadata": {},
     "output_type": "execute_result"
    }
   ],
   "source": [
    "import findspark\n",
    "\n",
    "findspark.init()\n",
    "findspark.find()"
   ]
  },
  {
   "cell_type": "code",
   "execution_count": 81,
   "metadata": {},
   "outputs": [],
   "source": [
    "from pyspark.sql import SparkSession\n",
    "\n",
    "spark = SparkSession.builder.appName(name=\"Test\").getOrCreate()\n",
    "\n",
    "sc = spark.sparkContext"
   ]
  },
  {
   "cell_type": "markdown",
   "metadata": {},
   "source": [
    "## Create DataFrame"
   ]
  },
  {
   "cell_type": "code",
   "execution_count": 83,
   "metadata": {},
   "outputs": [
    {
     "name": "stdout",
     "output_type": "stream",
     "text": [
      "+---------+--------------------+--------------------+---------------+------+-------------+------------------+----------------+---------------+------------+----------------+------------+\n",
      "|work_year|           job_title|        job_category|salary_currency|salary|salary_in_usd|employee_residence|experience_level|employment_type|work_setting|company_location|company_size|\n",
      "+---------+--------------------+--------------------+---------------+------+-------------+------------------+----------------+---------------+------------+----------------+------------+\n",
      "|     2023|Data DevOps Engineer|    Data Engineering|            EUR| 88000|        95012|           Germany|       Mid-level|      Full-time|      Hybrid|         Germany|           L|\n",
      "|     2023|      Data Architect|Data Architecture...|            USD|186000|       186000|     United States|          Senior|      Full-time|   In-person|   United States|           M|\n",
      "|     2023|      Data Architect|Data Architecture...|            USD| 81800|        81800|     United States|          Senior|      Full-time|   In-person|   United States|           M|\n",
      "|     2023|      Data Scientist|Data Science and ...|            USD|212000|       212000|     United States|          Senior|      Full-time|   In-person|   United States|           M|\n",
      "|     2023|      Data Scientist|Data Science and ...|            USD| 93300|        93300|     United States|          Senior|      Full-time|   In-person|   United States|           M|\n",
      "|     2023|      Data Scientist|Data Science and ...|            USD|130000|       130000|     United States|          Senior|      Full-time|      Remote|   United States|           M|\n",
      "|     2023|      Data Scientist|Data Science and ...|            USD|100000|       100000|     United States|          Senior|      Full-time|      Remote|   United States|           M|\n",
      "|     2023|Machine Learning ...|Machine Learning ...|            USD|224400|       224400|     United States|       Mid-level|      Full-time|   In-person|   United States|           M|\n",
      "|     2023|Machine Learning ...|Machine Learning ...|            USD|138700|       138700|     United States|       Mid-level|      Full-time|   In-person|   United States|           M|\n",
      "|     2023|       Data Engineer|    Data Engineering|            USD|210000|       210000|     United States|       Executive|      Full-time|      Remote|   United States|           M|\n",
      "|     2023|       Data Engineer|    Data Engineering|            USD|168000|       168000|     United States|       Executive|      Full-time|      Remote|   United States|           M|\n",
      "|     2023|Machine Learning ...|Machine Learning ...|            USD|224400|       224400|     United States|          Senior|      Full-time|   In-person|   United States|           M|\n",
      "|     2023|Machine Learning ...|Machine Learning ...|            USD|138700|       138700|     United States|          Senior|      Full-time|   In-person|   United States|           M|\n",
      "|     2023|      Data Scientist|Data Science and ...|            GBP| 35000|        43064|    United Kingdom|       Mid-level|      Full-time|   In-person|  United Kingdom|           M|\n",
      "|     2023|      Data Scientist|Data Science and ...|            GBP| 30000|        36912|    United Kingdom|       Mid-level|      Full-time|   In-person|  United Kingdom|           M|\n",
      "|     2023|        Data Analyst|       Data Analysis|            USD| 95000|        95000|     United States|     Entry-level|      Full-time|   In-person|   United States|           M|\n",
      "|     2023|        Data Analyst|       Data Analysis|            USD| 75000|        75000|     United States|     Entry-level|      Full-time|   In-person|   United States|           M|\n",
      "|     2023|      Data Scientist|Data Science and ...|            USD|300000|       300000|     United States|          Senior|      Full-time|   In-person|   United States|           M|\n",
      "|     2023|      Data Scientist|Data Science and ...|            USD|234000|       234000|     United States|          Senior|      Full-time|   In-person|   United States|           M|\n",
      "|     2023|  Analytics Engineer|Leadership and Ma...|            USD|140000|       140000|     United States|       Mid-level|      Full-time|   In-person|   United States|           M|\n",
      "+---------+--------------------+--------------------+---------------+------+-------------+------------------+----------------+---------------+------------+----------------+------------+\n",
      "only showing top 20 rows\n",
      "\n"
     ]
    }
   ],
   "source": [
    "from datetime import datetime , date\n",
    "import pandas as pd\n",
    "from pyspark.sql import Row\n",
    "\n",
    "test = spark.read.csv('./jobs_in_data.csv', header=True)\n",
    "\n",
    "test.show()\n"
   ]
  }
 ],
 "metadata": {
  "kernelspec": {
   "display_name": "Python 3",
   "language": "python",
   "name": "python3"
  },
  "language_info": {
   "codemirror_mode": {
    "name": "ipython",
    "version": 3
   },
   "file_extension": ".py",
   "mimetype": "text/x-python",
   "name": "python",
   "nbconvert_exporter": "python",
   "pygments_lexer": "ipython3",
   "version": "3.11.7"
  }
 },
 "nbformat": 4,
 "nbformat_minor": 2
}
