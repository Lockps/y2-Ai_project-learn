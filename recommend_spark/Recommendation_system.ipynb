{
 "cells": [
  {
   "cell_type": "markdown",
   "metadata": {},
   "source": [
    "### Createing SpackSession"
   ]
  },
  {
   "cell_type": "code",
   "execution_count": 5,
   "metadata": {},
   "outputs": [],
   "source": [
    "from pyspark.sql import SparkSession\n",
    "spark = SparkSession.builder.appName('Recommendation_System').getOrCreate()"
   ]
  },
  {
   "cell_type": "markdown",
   "metadata": {},
   "source": [
    "### Importing the Dataset"
   ]
  },
  {
   "cell_type": "code",
   "execution_count": 6,
   "metadata": {},
   "outputs": [],
   "source": [
    "df = spark.read.csv('./data/12_movielens_ratings.csv',inferSchema=True,header=True)"
   ]
  },
  {
   "cell_type": "code",
   "execution_count": 7,
   "metadata": {},
   "outputs": [
    {
     "name": "stdout",
     "output_type": "stream",
     "text": [
      "+-------+------+------+\n",
      "|movieId|rating|userId|\n",
      "+-------+------+------+\n",
      "|      2|   3.0|     0|\n",
      "|      3|   1.0|     0|\n",
      "|      5|   2.0|     0|\n",
      "|      9|   4.0|     0|\n",
      "|     11|   1.0|     0|\n",
      "|     12|   2.0|     0|\n",
      "|     15|   1.0|     0|\n",
      "|     17|   1.0|     0|\n",
      "|     19|   1.0|     0|\n",
      "|     21|   1.0|     0|\n",
      "|     23|   1.0|     0|\n",
      "|     26|   3.0|     0|\n",
      "|     27|   1.0|     0|\n",
      "|     28|   1.0|     0|\n",
      "|     29|   1.0|     0|\n",
      "|     30|   1.0|     0|\n",
      "|     31|   1.0|     0|\n",
      "|     34|   1.0|     0|\n",
      "|     37|   1.0|     0|\n",
      "|     41|   2.0|     0|\n",
      "+-------+------+------+\n",
      "only showing top 20 rows\n",
      "\n"
     ]
    }
   ],
   "source": [
    "df.show()"
   ]
  },
  {
   "cell_type": "code",
   "execution_count": 8,
   "metadata": {},
   "outputs": [
    {
     "name": "stdout",
     "output_type": "stream",
     "text": [
      "+-------+------------------+------------------+------------------+\n",
      "|summary|           movieId|            rating|            userId|\n",
      "+-------+------------------+------------------+------------------+\n",
      "|  count|              1501|              1501|              1501|\n",
      "|   mean| 49.40572951365756|1.7741505662891406|14.383744170552964|\n",
      "| stddev|28.937034065088994| 1.187276166124803| 8.591040424293272|\n",
      "|    min|                 0|               1.0|                 0|\n",
      "|    max|                99|               5.0|                29|\n",
      "+-------+------------------+------------------+------------------+\n",
      "\n"
     ]
    }
   ],
   "source": [
    "df.describe().show()"
   ]
  },
  {
   "cell_type": "markdown",
   "metadata": {},
   "source": [
    "### Splitting the dataset"
   ]
  },
  {
   "cell_type": "code",
   "execution_count": 9,
   "metadata": {},
   "outputs": [],
   "source": [
    "training_set , test_set = df.randomSplit([0.8,0.2])"
   ]
  },
  {
   "cell_type": "markdown",
   "metadata": {},
   "source": [
    "### Createing the model"
   ]
  },
  {
   "cell_type": "code",
   "execution_count": 13,
   "metadata": {},
   "outputs": [],
   "source": [
    "from pyspark.ml.recommendation import ALS\n",
    "recommender = ALS(userCol= 'userId', itemCol= 'movieId', ratingCol='rating')\n",
    "recommender = recommender.fit(training_set)"
   ]
  },
  {
   "cell_type": "markdown",
   "metadata": {},
   "source": [
    "### Predictiong using the test set"
   ]
  },
  {
   "cell_type": "code",
   "execution_count": 15,
   "metadata": {},
   "outputs": [],
   "source": [
    "preds = recommender.transform(test_set)"
   ]
  },
  {
   "cell_type": "code",
   "execution_count": 16,
   "metadata": {},
   "outputs": [
    {
     "name": "stdout",
     "output_type": "stream",
     "text": [
      "+-------+------+------+----------+\n",
      "|movieId|rating|userId|prediction|\n",
      "+-------+------+------+----------+\n",
      "|      3|   1.0|    26| 1.1706842|\n",
      "|      2|   1.0|    12| 0.8300074|\n",
      "|      6|   1.0|    12|  1.082421|\n",
      "|      0|   1.0|    13|   0.65486|\n",
      "|      4|   2.0|    13| 1.8417549|\n",
      "|      5|   1.0|    13|0.68662375|\n",
      "|      0|   1.0|     6| 1.2873976|\n",
      "|      2|   1.0|    16| 1.5040722|\n",
      "|      0|   1.0|     3|  0.645666|\n",
      "|      6|   1.0|    20| 1.3907601|\n",
      "|      1|   1.0|     5| 2.1129293|\n",
      "|      5|   1.0|     5| 1.3788033|\n",
      "|      6|   2.0|    19| 1.1254199|\n",
      "|      3|   1.0|    17|0.98663855|\n",
      "|      3|   2.0|     8| 1.7552651|\n",
      "|      2|   4.0|    10| 2.0877345|\n",
      "|      4|   3.0|    10| 0.9369778|\n",
      "|      4|   1.0|    24| 1.3532029|\n",
      "|      4|   1.0|    29| 1.3602777|\n",
      "|      6|   2.0|    11|  2.126032|\n",
      "+-------+------+------+----------+\n",
      "only showing top 20 rows\n",
      "\n"
     ]
    }
   ],
   "source": [
    "preds.show()"
   ]
  },
  {
   "cell_type": "markdown",
   "metadata": {},
   "source": [
    "### Evaluationg the model"
   ]
  },
  {
   "cell_type": "code",
   "execution_count": 18,
   "metadata": {},
   "outputs": [
    {
     "data": {
      "text/plain": [
       "1.0346734185584492"
      ]
     },
     "execution_count": 18,
     "metadata": {},
     "output_type": "execute_result"
    }
   ],
   "source": [
    "# root mean squared error = sqrt(sum(1,n) (|predicted - actual|)^2)\n",
    "from pyspark.ml.evaluation import RegressionEvaluator\n",
    "evaluator = RegressionEvaluator(labelCol='rating')\n",
    "evaluator.evaluate(preds)"
   ]
  },
  {
   "cell_type": "code",
   "execution_count": null,
   "metadata": {},
   "outputs": [],
   "source": []
  },
  {
   "cell_type": "markdown",
   "metadata": {},
   "source": [
    "### Making a recommendation"
   ]
  },
  {
   "cell_type": "code",
   "execution_count": 19,
   "metadata": {},
   "outputs": [
    {
     "name": "stdout",
     "output_type": "stream",
     "text": [
      "+-------+------+------+\n",
      "|movieId|rating|userId|\n",
      "+-------+------+------+\n",
      "|      0|   1.0|     3|\n",
      "|      0|   1.0|     6|\n",
      "|      0|   1.0|    13|\n",
      "|      1|   1.0|     5|\n",
      "|      2|   1.0|    12|\n",
      "|      2|   1.0|    16|\n",
      "|      2|   4.0|    10|\n",
      "|      3|   1.0|    17|\n",
      "|      3|   1.0|    26|\n",
      "|      3|   2.0|     8|\n",
      "|      4|   1.0|    24|\n",
      "|      4|   1.0|    29|\n",
      "|      4|   2.0|    13|\n",
      "|      4|   3.0|    10|\n",
      "|      5|   1.0|     5|\n",
      "|      5|   1.0|    13|\n",
      "|      5|   2.0|     0|\n",
      "|      6|   1.0|    12|\n",
      "|      6|   1.0|    20|\n",
      "|      6|   2.0|    11|\n",
      "+-------+------+------+\n",
      "only showing top 20 rows\n",
      "\n"
     ]
    }
   ],
   "source": [
    "test_set.show()"
   ]
  },
  {
   "cell_type": "code",
   "execution_count": 23,
   "metadata": {},
   "outputs": [
    {
     "name": "stdout",
     "output_type": "stream",
     "text": [
      "+-------+------+------+\n",
      "|movieId|rating|userId|\n",
      "+-------+------+------+\n",
      "|     14|   1.0|    23|\n",
      "|     24|   1.0|    23|\n",
      "|     25|   1.0|    23|\n",
      "|     48|   5.0|    23|\n",
      "|     64|   4.0|    23|\n",
      "|     72|   1.0|    23|\n",
      "|     77|   1.0|    23|\n",
      "|     84|   1.0|    23|\n",
      "|     87|   3.0|    23|\n",
      "+-------+------+------+\n",
      "\n"
     ]
    }
   ],
   "source": [
    "test_set.filter(test_set['userId'] == 23).show()"
   ]
  },
  {
   "cell_type": "code",
   "execution_count": 27,
   "metadata": {},
   "outputs": [],
   "source": [
    "single_user = test_set.filter(test_set['userId']==23)"
   ]
  },
  {
   "cell_type": "code",
   "execution_count": 28,
   "metadata": {},
   "outputs": [
    {
     "name": "stdout",
     "output_type": "stream",
     "text": [
      "+------+-------+\n",
      "|userId|movieId|\n",
      "+------+-------+\n",
      "|    23|     14|\n",
      "|    23|     24|\n",
      "|    23|     25|\n",
      "|    23|     48|\n",
      "|    23|     64|\n",
      "|    23|     72|\n",
      "|    23|     77|\n",
      "|    23|     84|\n",
      "|    23|     87|\n",
      "+------+-------+\n",
      "\n"
     ]
    }
   ],
   "source": [
    "single_user.show()"
   ]
  },
  {
   "cell_type": "code",
   "execution_count": 30,
   "metadata": {},
   "outputs": [],
   "source": [
    "recommendation = recommender.transform(single_user)"
   ]
  },
  {
   "cell_type": "code",
   "execution_count": 31,
   "metadata": {},
   "outputs": [
    {
     "name": "stdout",
     "output_type": "stream",
     "text": [
      "+------+-------+----------+\n",
      "|userId|movieId|prediction|\n",
      "+------+-------+----------+\n",
      "|    23|     64| 3.4092183|\n",
      "|    23|     48| 2.3060563|\n",
      "|    23|     87|  2.145935|\n",
      "|    23|     77| 1.6267176|\n",
      "|    23|     72| 1.6068959|\n",
      "|    23|     14| 1.4555113|\n",
      "|    23|     24| 1.3340608|\n",
      "|    23|     84|0.80534863|\n",
      "|    23|     25|0.19607179|\n",
      "+------+-------+----------+\n",
      "\n"
     ]
    }
   ],
   "source": [
    "recommendation.orderBy('prediction',ascending = False).show()"
   ]
  }
 ],
 "metadata": {
  "kernelspec": {
   "display_name": "Python 3",
   "language": "python",
   "name": "python3"
  },
  "language_info": {
   "codemirror_mode": {
    "name": "ipython",
    "version": 3
   },
   "file_extension": ".py",
   "mimetype": "text/x-python",
   "name": "python",
   "nbconvert_exporter": "python",
   "pygments_lexer": "ipython3",
   "version": "3.11.7"
  }
 },
 "nbformat": 4,
 "nbformat_minor": 2
}
