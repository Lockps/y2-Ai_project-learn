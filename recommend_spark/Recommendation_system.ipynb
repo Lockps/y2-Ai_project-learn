{
 "cells": [
  {
   "cell_type": "markdown",
   "metadata": {},
   "source": [
    "### Createing SpackSession"
   ]
  },
  {
   "cell_type": "code",
   "execution_count": 1,
   "metadata": {},
   "outputs": [],
   "source": [
    "from pyspark.sql import SparkSession\n",
    "spark = SparkSession.builder.appName('Recommendation_System').getOrCreate()"
   ]
  },
  {
   "cell_type": "markdown",
   "metadata": {},
   "source": [
    "### Importing the Dataset"
   ]
  },
  {
   "cell_type": "code",
   "execution_count": 2,
   "metadata": {},
   "outputs": [],
   "source": [
    "df = spark.read.csv('./data/12_movielens_ratings.csv',inferSchema=True,header=True)"
   ]
  },
  {
   "cell_type": "code",
   "execution_count": 3,
   "metadata": {},
   "outputs": [
    {
     "name": "stdout",
     "output_type": "stream",
     "text": [
      "+-------+------+------+\n",
      "|movieId|rating|userId|\n",
      "+-------+------+------+\n",
      "|      2|   3.0|     0|\n",
      "|      3|   1.0|     0|\n",
      "|      5|   2.0|     0|\n",
      "|      9|   4.0|     0|\n",
      "|     11|   1.0|     0|\n",
      "|     12|   2.0|     0|\n",
      "|     15|   1.0|     0|\n",
      "|     17|   1.0|     0|\n",
      "|     19|   1.0|     0|\n",
      "|     21|   1.0|     0|\n",
      "|     23|   1.0|     0|\n",
      "|     26|   3.0|     0|\n",
      "|     27|   1.0|     0|\n",
      "|     28|   1.0|     0|\n",
      "|     29|   1.0|     0|\n",
      "|     30|   1.0|     0|\n",
      "|     31|   1.0|     0|\n",
      "|     34|   1.0|     0|\n",
      "|     37|   1.0|     0|\n",
      "|     41|   2.0|     0|\n",
      "+-------+------+------+\n",
      "only showing top 20 rows\n",
      "\n"
     ]
    }
   ],
   "source": [
    "df.show()"
   ]
  },
  {
   "cell_type": "code",
   "execution_count": 4,
   "metadata": {},
   "outputs": [
    {
     "name": "stdout",
     "output_type": "stream",
     "text": [
      "+-------+------------------+------------------+------------------+\n",
      "|summary|           movieId|            rating|            userId|\n",
      "+-------+------------------+------------------+------------------+\n",
      "|  count|              1501|              1501|              1501|\n",
      "|   mean| 49.40572951365756|1.7741505662891406|14.383744170552964|\n",
      "| stddev|28.937034065088994| 1.187276166124803| 8.591040424293272|\n",
      "|    min|                 0|               1.0|                 0|\n",
      "|    max|                99|               5.0|                29|\n",
      "+-------+------------------+------------------+------------------+\n",
      "\n"
     ]
    }
   ],
   "source": [
    "df.describe().show()"
   ]
  },
  {
   "cell_type": "markdown",
   "metadata": {},
   "source": [
    "### Splitting the dataset"
   ]
  },
  {
   "cell_type": "code",
   "execution_count": 5,
   "metadata": {},
   "outputs": [],
   "source": [
    "training_set , test_set = df.randomSplit([0.8,0.2])"
   ]
  },
  {
   "cell_type": "markdown",
   "metadata": {},
   "source": [
    "### Createing the model"
   ]
  },
  {
   "cell_type": "code",
   "execution_count": 6,
   "metadata": {},
   "outputs": [],
   "source": [
    "from pyspark.ml.recommendation import ALS\n",
    "recommender = ALS(userCol= 'userId', itemCol= 'movieId', ratingCol='rating')\n",
    "recommender = recommender.fit(training_set)"
   ]
  },
  {
   "cell_type": "markdown",
   "metadata": {},
   "source": [
    "### Predictiong using the test set"
   ]
  },
  {
   "cell_type": "code",
   "execution_count": 7,
   "metadata": {},
   "outputs": [],
   "source": [
    "preds = recommender.transform(test_set)"
   ]
  },
  {
   "cell_type": "code",
   "execution_count": 8,
   "metadata": {},
   "outputs": [
    {
     "name": "stdout",
     "output_type": "stream",
     "text": [
      "+-------+------+------+----------+\n",
      "|movieId|rating|userId|prediction|\n",
      "+-------+------+------+----------+\n",
      "|      2|   1.0|    26| 2.2714884|\n",
      "|      3|   1.0|    26| 1.4238312|\n",
      "|      0|   1.0|    22|0.60962236|\n",
      "|      5|   2.0|    22| 1.9389005|\n",
      "|      6|   1.0|     1| 0.9734859|\n",
      "|      2|   3.0|     6| 1.8363168|\n",
      "|      6|   1.0|     6|  0.975117|\n",
      "|      0|   1.0|     3|0.79794395|\n",
      "|      0|   1.0|     5|0.95573896|\n",
      "|      1|   1.0|     5| 2.3451767|\n",
      "|      4|   1.0|    19| 1.4661646|\n",
      "|      2|   1.0|    15| 1.4333471|\n",
      "|      3|   1.0|    17|0.89547014|\n",
      "|      4|   1.0|     9| 1.6242402|\n",
      "|      2|   4.0|     8| 3.1553376|\n",
      "|      3|   2.0|     8| 1.7767761|\n",
      "|      4|   1.0|     7|   1.83481|\n",
      "|      2|   1.0|    25| 1.7798879|\n",
      "|      4|   1.0|    29| 1.3929825|\n",
      "|      4|   3.0|     2| 2.3357182|\n",
      "+-------+------+------+----------+\n",
      "only showing top 20 rows\n",
      "\n"
     ]
    }
   ],
   "source": [
    "preds.show()"
   ]
  },
  {
   "cell_type": "markdown",
   "metadata": {},
   "source": [
    "### Evaluationg the model"
   ]
  },
  {
   "cell_type": "code",
   "execution_count": 9,
   "metadata": {},
   "outputs": [
    {
     "data": {
      "text/plain": [
       "1.019557382262578"
      ]
     },
     "execution_count": 9,
     "metadata": {},
     "output_type": "execute_result"
    }
   ],
   "source": [
    "# root mean squared error = sqrt(sum(1,n) (|predicted - actual|)^2)\n",
    "from pyspark.ml.evaluation import RegressionEvaluator\n",
    "evaluator = RegressionEvaluator(labelCol='rating')\n",
    "evaluator.evaluate(preds)"
   ]
  },
  {
   "cell_type": "code",
   "execution_count": null,
   "metadata": {},
   "outputs": [],
   "source": []
  },
  {
   "cell_type": "markdown",
   "metadata": {},
   "source": [
    "### Making a recommendation"
   ]
  },
  {
   "cell_type": "code",
   "execution_count": 10,
   "metadata": {},
   "outputs": [
    {
     "name": "stdout",
     "output_type": "stream",
     "text": [
      "+-------+------+------+\n",
      "|movieId|rating|userId|\n",
      "+-------+------+------+\n",
      "|      0|   1.0|     3|\n",
      "|      0|   1.0|     5|\n",
      "|      0|   1.0|    22|\n",
      "|      1|   1.0|     5|\n",
      "|      2|   1.0|    15|\n",
      "|      2|   1.0|    25|\n",
      "|      2|   1.0|    26|\n",
      "|      2|   3.0|     6|\n",
      "|      2|   4.0|     8|\n",
      "|      3|   1.0|    17|\n",
      "|      3|   1.0|    26|\n",
      "|      3|   2.0|     8|\n",
      "|      4|   1.0|     7|\n",
      "|      4|   1.0|     9|\n",
      "|      4|   1.0|    19|\n",
      "|      4|   1.0|    29|\n",
      "|      4|   3.0|     2|\n",
      "|      5|   2.0|     0|\n",
      "|      5|   2.0|    22|\n",
      "|      6|   1.0|     1|\n",
      "+-------+------+------+\n",
      "only showing top 20 rows\n",
      "\n"
     ]
    }
   ],
   "source": [
    "test_set.show()"
   ]
  },
  {
   "cell_type": "code",
   "execution_count": 11,
   "metadata": {},
   "outputs": [
    {
     "name": "stdout",
     "output_type": "stream",
     "text": [
      "+-------+------+------+\n",
      "|movieId|rating|userId|\n",
      "+-------+------+------+\n",
      "|     13|   4.0|    23|\n",
      "|     22|   2.0|    23|\n",
      "|     49|   5.0|    23|\n",
      "|     83|   1.0|    23|\n",
      "|     87|   3.0|    23|\n",
      "|     97|   1.0|    23|\n",
      "+-------+------+------+\n",
      "\n"
     ]
    }
   ],
   "source": [
    "test_set.filter(test_set['userId'] == 23).show()"
   ]
  },
  {
   "cell_type": "code",
   "execution_count": 12,
   "metadata": {},
   "outputs": [],
   "source": [
    "single_user = test_set.filter(test_set['userId']==23)"
   ]
  },
  {
   "cell_type": "code",
   "execution_count": 13,
   "metadata": {},
   "outputs": [
    {
     "name": "stdout",
     "output_type": "stream",
     "text": [
      "+-------+------+------+\n",
      "|movieId|rating|userId|\n",
      "+-------+------+------+\n",
      "|     13|   4.0|    23|\n",
      "|     22|   2.0|    23|\n",
      "|     49|   5.0|    23|\n",
      "|     83|   1.0|    23|\n",
      "|     87|   3.0|    23|\n",
      "|     97|   1.0|    23|\n",
      "+-------+------+------+\n",
      "\n"
     ]
    }
   ],
   "source": [
    "single_user.show()"
   ]
  },
  {
   "cell_type": "code",
   "execution_count": 14,
   "metadata": {},
   "outputs": [],
   "source": [
    "recommendation = recommender.transform(single_user)"
   ]
  },
  {
   "cell_type": "code",
   "execution_count": 15,
   "metadata": {},
   "outputs": [
    {
     "name": "stdout",
     "output_type": "stream",
     "text": [
      "+-------+------+------+----------+\n",
      "|movieId|rating|userId|prediction|\n",
      "+-------+------+------+----------+\n",
      "|     49|   5.0|    23|  3.795911|\n",
      "|     13|   4.0|    23| 3.1566176|\n",
      "|     22|   2.0|    23| 2.6542892|\n",
      "|     97|   1.0|    23| 2.0540893|\n",
      "|     87|   3.0|    23| 1.2983763|\n",
      "|     83|   1.0|    23|  0.753503|\n",
      "+-------+------+------+----------+\n",
      "\n"
     ]
    }
   ],
   "source": [
    "recommendation.orderBy('prediction',ascending = False).show()"
   ]
  }
 ],
 "metadata": {
  "kernelspec": {
   "display_name": "Python 3",
   "language": "python",
   "name": "python3"
  },
  "language_info": {
   "codemirror_mode": {
    "name": "ipython",
    "version": 3
   },
   "file_extension": ".py",
   "mimetype": "text/x-python",
   "name": "python",
   "nbconvert_exporter": "python",
   "pygments_lexer": "ipython3",
   "version": "3.11.7"
  }
 },
 "nbformat": 4,
 "nbformat_minor": 2
}
